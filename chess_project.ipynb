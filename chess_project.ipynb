{
  "nbformat": 4,
  "nbformat_minor": 0,
  "metadata": {
    "colab": {
      "provenance": [],
      "authorship_tag": "ABX9TyMRKKkXZpy2KaVAWNOE7L3R",
      "include_colab_link": true
    },
    "kernelspec": {
      "name": "python3",
      "display_name": "Python 3"
    },
    "language_info": {
      "name": "python"
    }
  },
  "cells": [
    {
      "cell_type": "markdown",
      "metadata": {
        "id": "view-in-github",
        "colab_type": "text"
      },
      "source": [
        "<a href=\"https://colab.research.google.com/github/andreamurari/chess_project/blob/main/chess_project.ipynb\" target=\"_parent\"><img src=\"https://colab.research.google.com/assets/colab-badge.svg\" alt=\"Open In Colab\"/></a>"
      ]
    },
    {
      "cell_type": "code",
      "execution_count": 1,
      "metadata": {
        "id": "veeaT0QmagCl"
      },
      "outputs": [],
      "source": [
        "import os\n",
        "import numpy as np\n",
        "import pandas as pd\n",
        "import matplotlib.pyplot as plt"
      ]
    },
    {
      "cell_type": "code",
      "source": [
        "df=pd.read_csv('/content/chess.csv')"
      ],
      "metadata": {
        "id": "j1gBE68zatKc"
      },
      "execution_count": null,
      "outputs": []
    },
    {
      "cell_type": "code",
      "source": [
        "df['opening_eco'].value_counts()[0:100]"
      ],
      "metadata": {
        "colab": {
          "base_uri": "https://localhost:8080/"
        },
        "id": "fTWAaACLv7m4",
        "outputId": "807c7c49-951b-405e-bd61-f737690f229c"
      },
      "execution_count": null,
      "outputs": [
        {
          "output_type": "execute_result",
          "data": {
            "text/plain": [
              "A00    1007\n",
              "C00     844\n",
              "D00     739\n",
              "B01     716\n",
              "C41     691\n",
              "       ... \n",
              "C78      33\n",
              "A07      33\n",
              "B34      33\n",
              "D43      33\n",
              "A48      32\n",
              "Name: opening_eco, Length: 100, dtype: int64"
            ]
          },
          "metadata": {},
          "execution_count": 4
        }
      ]
    },
    {
      "cell_type": "code",
      "source": [
        "mask = df['opening_eco']=='C00'"
      ],
      "metadata": {
        "id": "OSE9zSeSv_pX"
      },
      "execution_count": null,
      "outputs": []
    },
    {
      "cell_type": "code",
      "source": [
        "C00_df= df[mask]"
      ],
      "metadata": {
        "id": "rMAP7ZzcxxgR"
      },
      "execution_count": null,
      "outputs": []
    },
    {
      "cell_type": "code",
      "source": [
        "C00_df.count()"
      ],
      "metadata": {
        "colab": {
          "base_uri": "https://localhost:8080/"
        },
        "id": "jKWpWegPyUFF",
        "outputId": "595fc3b4-eb92-43e6-91f1-ff8dee181494"
      },
      "execution_count": null,
      "outputs": [
        {
          "output_type": "execute_result",
          "data": {
            "text/plain": [
              "id                844\n",
              "rated             844\n",
              "created_at        844\n",
              "last_move_at      844\n",
              "turns             844\n",
              "victory_status    844\n",
              "winner            844\n",
              "increment_code    844\n",
              "white_id          844\n",
              "white_rating      844\n",
              "black_id          844\n",
              "black_rating      844\n",
              "moves             844\n",
              "opening_eco       844\n",
              "opening_name      844\n",
              "opening_ply       844\n",
              "dtype: int64"
            ]
          },
          "metadata": {},
          "execution_count": 7
        }
      ]
    },
    {
      "cell_type": "code",
      "source": [],
      "metadata": {
        "id": "HcG6wa3KyWXX"
      },
      "execution_count": null,
      "outputs": []
    }
  ]
}